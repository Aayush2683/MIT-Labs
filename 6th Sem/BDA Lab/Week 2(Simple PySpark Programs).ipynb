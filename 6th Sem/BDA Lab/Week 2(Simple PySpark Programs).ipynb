{
 "cells": [
  {
   "cell_type": "code",
   "execution_count": 1,
   "id": "8f76c94c",
   "metadata": {},
   "outputs": [
    {
     "name": "stderr",
     "output_type": "stream",
     "text": [
      "/home/lplab/anaconda3/lib/python3.7/site-packages/pyspark/context.py:317: FutureWarning: Python 3.7 support is deprecated in Spark 3.4.\n",
      "  warnings.warn(\"Python 3.7 support is deprecated in Spark 3.4.\", FutureWarning)\n"
     ]
    },
    {
     "name": "stdout",
     "output_type": "stream",
     "text": [
      "+-------+---+\n",
      "|   Name|Age|\n",
      "+-------+---+\n",
      "|    Bob| 35|\n",
      "|Charlie| 42|\n",
      "+-------+---+\n",
      "\n",
      "+-------+---+----------+\n",
      "|   Name|Age|AgePlusTen|\n",
      "+-------+---+----------+\n",
      "|  Alice| 28|        38|\n",
      "|    Bob| 35|        45|\n",
      "|Charlie| 42|        52|\n",
      "|  David| 22|        32|\n",
      "+-------+---+----------+\n",
      "\n"
     ]
    }
   ],
   "source": [
    "from pyspark.sql import SparkSession\n",
    "from pyspark.sql.functions import col\n",
    "\n",
    "spark = SparkSession.builder.appName(\"DataFrameTransformations\").getOrCreate()\n",
    "\n",
    "data = [(\"Alice\", 28), (\"Bob\", 35), (\"Charlie\", 42), (\"David\", 22)]\n",
    "df = spark.createDataFrame(data, [\"Name\", \"Age\"])\n",
    "\n",
    "df.filter(col(\"Age\") > 30).show()\n",
    "df.withColumn(\"AgePlusTen\", col(\"Age\") + 10).show()\n",
    "\n",
    "spark.stop()\n"
   ]
  },
  {
   "cell_type": "code",
   "execution_count": 2,
   "id": "94d6cecd",
   "metadata": {},
   "outputs": [
    {
     "name": "stderr",
     "output_type": "stream",
     "text": [
      "/home/lplab/anaconda3/lib/python3.7/site-packages/pyspark/context.py:317: FutureWarning: Python 3.7 support is deprecated in Spark 3.4.\n",
      "  warnings.warn(\"Python 3.7 support is deprecated in Spark 3.4.\", FutureWarning)\n"
     ]
    },
    {
     "name": "stdout",
     "output_type": "stream",
     "text": [
      "+-------+---+\n",
      "|   Name|Age|\n",
      "+-------+---+\n",
      "|  Alice| 28|\n",
      "|    Bob| 35|\n",
      "|Charlie| 42|\n",
      "|  David| 22|\n",
      "+-------+---+\n",
      "\n",
      "Number of Rows: 4\n"
     ]
    }
   ],
   "source": [
    "from pyspark.sql import SparkSession\n",
    "\n",
    "spark = SparkSession.builder.appName(\"DataFrameActions\").getOrCreate()\n",
    "\n",
    "data = [(\"Alice\", 28), (\"Bob\", 35), (\"Charlie\", 42), (\"David\", 22)]\n",
    "df = spark.createDataFrame(data, [\"Name\", \"Age\"])\n",
    "\n",
    "df.show()\n",
    "print(f\"Number of Rows: {df.count()}\")\n",
    "\n",
    "spark.stop()\n"
   ]
  },
  {
   "cell_type": "code",
   "execution_count": 3,
   "id": "54cf737b",
   "metadata": {},
   "outputs": [
    {
     "name": "stderr",
     "output_type": "stream",
     "text": [
      "/home/lplab/anaconda3/lib/python3.7/site-packages/pyspark/context.py:317: FutureWarning: Python 3.7 support is deprecated in Spark 3.4.\n",
      "  warnings.warn(\"Python 3.7 support is deprecated in Spark 3.4.\", FutureWarning)\n"
     ]
    },
    {
     "name": "stdout",
     "output_type": "stream",
     "text": [
      "+-------+---+\n",
      "|   Name|Age|\n",
      "+-------+---+\n",
      "|  Alice| 28|\n",
      "|    Bob| 35|\n",
      "|Charlie| 42|\n",
      "|  David| 22|\n",
      "+-------+---+\n",
      "\n",
      "Total Age: 127\n",
      "Average Age: 31.75\n"
     ]
    }
   ],
   "source": [
    "from pyspark.sql import SparkSession\n",
    "from pyspark.sql.functions import col, avg, sum\n",
    "\n",
    "spark = SparkSession.builder.appName(\"DataFrameAggregations\").getOrCreate()\n",
    "\n",
    "data = [(\"Alice\", 28), (\"Bob\", 35), (\"Charlie\", 42), (\"David\", 22)]\n",
    "df = spark.createDataFrame(data, [\"Name\", \"Age\"])\n",
    "\n",
    "df.show()\n",
    "total_age, average_age = df.agg(sum(\"Age\"), avg(\"Age\")).first()\n",
    "\n",
    "print(f\"Total Age: {total_age}\")\n",
    "print(f\"Average Age: {average_age}\")\n",
    "\n",
    "spark.stop()\n"
   ]
  },
  {
   "cell_type": "code",
   "execution_count": 5,
   "id": "3321b117",
   "metadata": {},
   "outputs": [
    {
     "name": "stderr",
     "output_type": "stream",
     "text": [
      "/home/lplab/anaconda3/lib/python3.7/site-packages/pyspark/context.py:317: FutureWarning: Python 3.7 support is deprecated in Spark 3.4.\n",
      "  warnings.warn(\"Python 3.7 support is deprecated in Spark 3.4.\", FutureWarning)\n"
     ]
    }
   ],
   "source": [
    "\n",
    "from pyspark.sql import SparkSession\n",
    "\n",
    "spark = SparkSession.builder.appName(\"WriteToCSV\").getOrCreate()\n",
    "\n",
    "data = [(\"Alice\", 28), (\"Bob\", 35), (\"Charlie\", 42), (\"David\", 22)]\n",
    "df = spark.createDataFrame(data, [\"Name\", \"Age\"])\n",
    "\n",
    "df.coalesce(1).write.csv(\"/home/lplab/temp\", header=True, mode=\"overwrite\")\n",
    "\n",
    "spark.stop()\n"
   ]
  },
  {
   "cell_type": "code",
   "execution_count": 8,
   "id": "40fcd167",
   "metadata": {},
   "outputs": [
    {
     "name": "stdout",
     "output_type": "stream",
     "text": [
      "Word Count:\n",
      "+-------+-----+\n",
      "|   word|count|\n",
      "+-------+-----+\n",
      "|  Hello|    2|\n",
      "|  world|    1|\n",
      "|PySpark|    2|\n",
      "|  World|    1|\n",
      "|     of|    1|\n",
      "+-------+-----+\n",
      "\n"
     ]
    }
   ],
   "source": [
    "from pyspark.sql import SparkSession\n",
    "from pyspark.sql.functions import explode, split, count\n",
    "\n",
    "spark = SparkSession.builder.appName(\"WordCount\").getOrCreate()\n",
    "\n",
    "text_data = [\"Hello world\", \"Hello PySpark\", \"World of PySpark\"]\n",
    "\n",
    "word_counts = spark.createDataFrame([(text,) for text in text_data], [\"text\"]).select(explode(split(\"text\", \" \")).alias(\"word\")).groupBy(\"word\").agg(count(\"*\").alias(\"count\"))\n",
    "\n",
    "print(\"Word Count:\")\n",
    "word_counts.show()\n",
    "\n",
    "spark.stop()\n",
    "\n"
   ]
  },
  {
   "cell_type": "code",
   "execution_count": null,
   "id": "d79ae010",
   "metadata": {},
   "outputs": [],
   "source": []
  }
 ],
 "metadata": {
  "kernelspec": {
   "display_name": "Python 3",
   "language": "python",
   "name": "python3"
  },
  "language_info": {
   "codemirror_mode": {
    "name": "ipython",
    "version": 3
   },
   "file_extension": ".py",
   "mimetype": "text/x-python",
   "name": "python",
   "nbconvert_exporter": "python",
   "pygments_lexer": "ipython3",
   "version": "3.7.0"
  }
 },
 "nbformat": 4,
 "nbformat_minor": 5
}
